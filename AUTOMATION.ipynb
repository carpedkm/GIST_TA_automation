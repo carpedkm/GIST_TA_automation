{
 "cells": [
  {
   "cell_type": "markdown",
   "metadata": {},
   "source": [
    "## GIST TA Automation"
   ]
  },
  {
   "cell_type": "markdown",
   "metadata": {},
   "source": [
    "* How to install jpype:\n",
    "\n",
    "     ```conda install -c conda-forge jpype1```\n",
    "    - this could be used with anaconda environment\n",
    "    \n",
    "    ```pip install JPype1```\n",
    "    - this could be used with pip\n",
    "    "
   ]
  },
  {
   "cell_type": "code",
   "execution_count": null,
   "metadata": {},
   "outputs": [],
   "source": [
    "from jpype import *\n",
    "startJVM(getDefaultJVMPath(), \"-ea\")\n",
    "java.lang.System.out.println(\"Calling Java Print from Python using Jpype!\")\n",
    "shutdownJVM()"
   ]
  },
  {
   "cell_type": "code",
   "execution_count": null,
   "metadata": {},
   "outputs": [],
   "source": [
    "import os\n",
    "stream = os.popen('echo Returned output')\n",
    "output = stream.read()\n",
    "output"
   ]
  },
  {
   "cell_type": "code",
   "execution_count": null,
   "metadata": {},
   "outputs": [],
   "source": [
    "import subprocess\n",
    "\n",
    "process = subprocess.Popen(['ls'=],\n",
    "                            stdout=subprocess.PIPE,\n",
    "                            stderr=subprocess.PIPE)\n",
    "stdout, stderr = process.communicate()\n"
   ]
  },
  {
   "cell_type": "code",
   "execution_count": 63,
   "metadata": {},
   "outputs": [
    {
     "ename": "SyntaxError",
     "evalue": "invalid syntax (<ipython-input-63-ec66687738c9>, line 63)",
     "output_type": "error",
     "traceback": [
      "\u001b[0;36m  File \u001b[0;32m\"<ipython-input-63-ec66687738c9>\"\u001b[0;36m, line \u001b[0;32m63\u001b[0m\n\u001b[0;31m    def process_score:\u001b[0m\n\u001b[0m                     ^\u001b[0m\n\u001b[0;31mSyntaxError\u001b[0m\u001b[0;31m:\u001b[0m invalid syntax\n"
     ]
    }
   ],
   "source": [
    "import pandas as pd\n",
    "import os\n",
    "import subprocess\n",
    "from bs4 import BeautifulSoup\n",
    "\n",
    "\n",
    "df = pd.DataFrame()\n",
    "File_list = ['./20195015_DaneulKim.java']\n",
    "questionList = ['', 'b', 'c']\n",
    "AnswerList = ['Hello world']\n",
    "\n",
    "def web_crawler():\n",
    "    \n",
    "def get_File_List():\n",
    "    print('Current directory: ', os.getcwd())\n",
    "    os.chdir('~/hw#1')\n",
    "    \n",
    "    dir_list = os.listdir()\n",
    "    \n",
    "    \n",
    "def executeJAVA(directoryName, inputK, answerK):\n",
    "    \n",
    "    print('-------- Compile Start --------')\n",
    "#     compileCommand = 'javac '\n",
    "#     compileCommand = compileCommand + directoryName\n",
    "#     compileResult = os.system(compileCommand)\n",
    "#     print(compileResult)\n",
    "#     runCommand = 'java '\n",
    "#     runCommand = runCommand + 'Main'\n",
    "#     executionResult = os.system(runCommand)\n",
    "#     print(executionResult)\n",
    "    process = subprocess.Popen(['javac', directoryName],\n",
    "                            stdout=subprocess.PIPE,\n",
    "                           stderr=subprocess.PIPE)\n",
    "    stdout, stderr = process.communicate()\n",
    "    if 'error' in str(stderr): # If there's compile error\n",
    "        return 0\n",
    "    print('-------- Compile status --------')\n",
    "    print(stdout.strip())\n",
    "    print('-------- Run start --------')\n",
    "    process = subprocess.Popen(['java', 'Main', inputK],\n",
    "                             stdout=subprocess.PIPE,\n",
    "                            stderr=subprocess.PIPE)\n",
    "    while True:\n",
    "        output = process.stdout.read().strip()\n",
    "        output = str(output)\n",
    "        output = output.split(\"'\")[1]\n",
    "        print(output)\n",
    "        # print(output.strip())\n",
    "        return_code = process.poll() # check the return code of the process (Will return None while running)\n",
    "        if return_code is not None:\n",
    "            print('Return Code : ', return_code)\n",
    "            string = ''\n",
    "            for output in process.stdout.readlines():\n",
    "                string = string + output.strip()\n",
    "            if 'error' in string:\n",
    "                print('-------- Run complete with runtime error --------')\n",
    "                return 0\n",
    "            else:\n",
    "                if output == answerK :\n",
    "                    print('-------- Run complete with correct answer --------')\n",
    "                    return 100\n",
    "                else :\n",
    "                    print('-------- Run complete with wrong answer --------')\n",
    "                    return 0\n",
    "            break\n",
    "    \n",
    "    \n",
    "def process_score:    \n",
    "    for i, x in enumerate(File_list): # x to be 20195015_DaneulKim.java\n",
    "        studentID = x.split('_')[0]\n",
    "        name = x.split('_')[1]\n",
    "        inputForProgram = questionList[i] # This list would be the input for the java program\n",
    "        answerForProgram = AnswerList[i]\n",
    "        score = executeJAVA(x, inputForProgram, answerForProgram)\n",
    "        print('score : ', score)\n",
    "        new_data = {'Student_ID': studentID, 'Name': name, 'Score': score}\n",
    "        df.append(new_data, ignore_index=True)\n",
    "\n",
    "    df.head()\n",
    "    print('program ended')\n",
    "    \n",
    "def main():\n",
    "    "
   ]
  },
  {
   "cell_type": "code",
   "execution_count": null,
   "metadata": {},
   "outputs": [],
   "source": []
  }
 ],
 "metadata": {
  "kernelspec": {
   "display_name": "Python 3",
   "language": "python",
   "name": "python3"
  },
  "language_info": {
   "codemirror_mode": {
    "name": "ipython",
    "version": 3
   },
   "file_extension": ".py",
   "mimetype": "text/x-python",
   "name": "python",
   "nbconvert_exporter": "python",
   "pygments_lexer": "ipython3",
   "version": "3.7.3"
  }
 },
 "nbformat": 4,
 "nbformat_minor": 2
}
