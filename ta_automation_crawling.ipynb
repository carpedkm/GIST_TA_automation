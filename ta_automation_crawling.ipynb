{
 "cells": [
  {
   "cell_type": "markdown",
   "metadata": {},
   "source": [
    "# TA Automation - Crawling the Assignment & Quiz Files"
   ]
  },
  {
   "cell_type": "code",
   "execution_count": 20,
   "metadata": {},
   "outputs": [],
   "source": [
    "from bs4 import BeautifulSoup\n",
    "from selenium import webdriver\n",
    "import pandas as pandas\n",
    "import os\n",
    "import time"
   ]
  },
  {
   "cell_type": "code",
   "execution_count": 21,
   "metadata": {},
   "outputs": [],
   "source": [
    "path = '/Users/carpedkm/Documents/chromedriver_88' # Used version 88 driver based on mac m1"
   ]
  },
  {
   "cell_type": "code",
   "execution_count": 22,
   "metadata": {},
   "outputs": [],
   "source": [
    "driver = webdriver.Chrome(path)"
   ]
  },
  {
   "cell_type": "markdown",
   "metadata": {},
   "source": [
    "## LOGIN and ACCESSING THE GEL"
   ]
  },
  {
   "cell_type": "code",
   "execution_count": 23,
   "metadata": {},
   "outputs": [],
   "source": [
    "driver.get('https://gel.gist.ac.kr')\n",
    "login_id = '20195015' # PUT YOUR GEL ID HERE\n",
    "login_passwd = 'fly981023!' # PUT YOUR GEL PW HERE\n",
    "\n",
    "subject name = 'Object-Oriented Programming 1' # This subject name should be equivalent to your TA-maintenance subject title on GEL\n",
    "# ELEMENT sourcing by using xpath\n",
    "id_input_em = driver.find_element_by_xpath('//*[@id=\"username\"]') # ELEMENT FOR THE ID INPUT\n",
    "pw_input_em = driver.find_element_by_xpath('//*[@id=\"password\"]') # ELEMENT FOR THE PW INPUT\n",
    "\n",
    "id_input_em.send_keys(login_id) # SENDING THE ID string TO THE GIVEN INPUT \n",
    "pw_input_em.send_keys(login_passwd)# SENDING THE PW string TO THE GIVEN INPUT\n",
    "\n",
    "time.sleep(3)\n",
    "\n",
    "driver.find_element_by_xpath('//*[@id=\"yui_3_17_2_4_1457519302601_25\"]/p/a').click() # CLICK THE LOGIN button\n",
    "time.sleep(5)"
   ]
  },
  {
   "cell_type": "code",
   "execution_count": 35,
   "metadata": {},
   "outputs": [
    {
     "name": "stdout",
     "output_type": "stream",
     "text": [
      "Object-Oriented Programming 1\n",
      "(2021USR03.10USR01.UNIV0160GS240801)\n"
     ]
    }
   ],
   "source": [
    "if subject_name in driver.find_element_by_class_name('dashboard_txt').text :\n",
    "    driver.find_element_by_css_selector('#yui_3_17_2_4_1458269549696_145 > div:nth-child(2) > table:nth-child(3) > tbody > tr > td.w30.cell.c0 > div > a').click()\n",
    "else :\n",
    "    print('wrong input subject title : please retry')\n",
    "    \n",
    "\n",
    "driver.find_element_by_xpath('//*[@id=\"inst4\"]/div[2]/ul/li/ul/li[4]/p/a').click() # CLICK THE 교수 강의실\n",
    "driver.find_element_by_xpath('//*[@id=\"yui_3_17_2_4_1458269549696_145\"]/div[2]/table[1]/tbody/tr/td[1]/div/a').click() # CLICK THE 바로가기\n"
   ]
  },
  {
   "cell_type": "code",
   "execution_count": null,
   "metadata": {},
   "outputs": [],
   "source": [
    "# Download the files from the"
   ]
  }
 ],
 "metadata": {
  "kernelspec": {
   "display_name": "Python 3",
   "language": "python",
   "name": "python3"
  },
  "language_info": {
   "codemirror_mode": {
    "name": "ipython",
    "version": 3
   },
   "file_extension": ".py",
   "mimetype": "text/x-python",
   "name": "python",
   "nbconvert_exporter": "python",
   "pygments_lexer": "ipython3",
   "version": "3.9.1"
  }
 },
 "nbformat": 4,
 "nbformat_minor": 2
}
