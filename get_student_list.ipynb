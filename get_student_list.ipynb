{
 "cells": [
  {
   "cell_type": "code",
   "execution_count": 8,
   "id": "sufficient-address",
   "metadata": {},
   "outputs": [],
   "source": [
    "from bs4 import BeautifulSoup\n",
    "from selenium import webdriver\n",
    "import pandas as pd\n",
    "import time"
   ]
  },
  {
   "cell_type": "code",
   "execution_count": 9,
   "id": "elegant-village",
   "metadata": {},
   "outputs": [],
   "source": [
    "driver = webdriver.Chrome('/Users/carpedkm/Documents/chromedriver_88')\n",
    "df = pd.DataFrame(columns=['Name', 'ID', 'Classroom'])\n",
    "class_room_num = 1"
   ]
  },
  {
   "cell_type": "code",
   "execution_count": 10,
   "id": "higher-victim",
   "metadata": {},
   "outputs": [],
   "source": [
    "driver.get('https://gel.gist.ac.kr')\n",
    "login_id = '20195015' # PUT YOUR GEL ID HERE\n",
    "login_passwd = 'fly981023!' # PUT YOUR GEL PW HERE\n",
    "if class_room_num == 1 :\n",
    "    subject_name = 'Object-Oriented Programming 1' # This subject name should be equivalent to your TA-maintenance subject title on GEL\n",
    "# ELEMENT sourcing by using xpath\n",
    "id_input_em = driver.find_element_by_xpath('//*[@id=\"username\"]') # ELEMENT FOR THE ID INPUT\n",
    "pw_input_em = driver.find_element_by_xpath('//*[@id=\"password\"]') # ELEMENT FOR THE PW INPUT\n",
    "\n",
    "id_input_em.send_keys(login_id) # SENDING THE ID string TO THE GIVEN INPUT \n",
    "pw_input_em.send_keys(login_passwd)# SENDING THE PW string TO THE GIVEN INPUT\n",
    "\n",
    "time.sleep(3)\n",
    "\n",
    "driver.find_element_by_xpath('//*[@id=\"yui_3_17_2_4_1457519302601_25\"]/p/a').click() # CLICK THE LOGIN button\n",
    "time.sleep(5)"
   ]
  },
  {
   "cell_type": "code",
   "execution_count": 14,
   "id": "returning-lexington",
   "metadata": {},
   "outputs": [],
   "source": [
    "driver.find_element_by_xpath('//*[@id=\"expandable_branch_0_mycourses\"]/a').click()\n",
    "time.sleep(3)\n",
    "if class_room_num == 1:\n",
    "    driver.find_element_by_xpath('//*[@id=\"course-17962\"]/div[1]/h2/a').click() # Lecture title click\n",
    "    time.sleep(3)\n",
    "elif class_room_num == 2:\n",
    "    driver.find_element_by_xpath()\n",
    "driver.find_element_by_xpath('//*[@id=\"settingsnav\"]/ul/li[1]/ul/li[4]/p/span').click()\n",
    "driver.find_element_by_xpath('/html/body/div[1]/header/div[2]/div/div/div/aside/div[2]/div[2]/div/ul/li[1]/ul/li[4]/ul/li[1]/p/a').click() # Click 등록된 사용자\n",
    "time.sleep(3)\n",
    "driver.find_element_by_xpath('//*[@id=\"id_role\"]').click() # Click 역할\n",
    "driver.find_element_by_xpath('//*[@id=\"id_role\"]/option[6]').click() # click 학생\n",
    "time.sleep(3)\n",
    "driver.find_element_by_xpath('//*[@id=\"id_submitbutton\"]').click() # click 필터\n",
    "time.sleep(5)"
   ]
  },
  {
   "cell_type": "code",
   "execution_count": 37,
   "id": "serial-practitioner",
   "metadata": {},
   "outputs": [
    {
     "ename": "AttributeError",
     "evalue": "ResultSet object has no attribute 'find_all'. You're probably treating a list of elements like a single element. Did you call find_all() when you meant to call find()?",
     "output_type": "error",
     "traceback": [
      "\u001b[0;31m---------------------------------------------------------------------------\u001b[0m",
      "\u001b[0;31mAttributeError\u001b[0m                            Traceback (most recent call last)",
      "\u001b[0;32m<ipython-input-37-7c6363c31356>\u001b[0m in \u001b[0;36m<module>\u001b[0;34m\u001b[0m\n\u001b[1;32m      3\u001b[0m \u001b[0mcontents\u001b[0m \u001b[0;34m=\u001b[0m \u001b[0mBeautifulSoup\u001b[0m\u001b[0;34m(\u001b[0m\u001b[0mfull_page\u001b[0m\u001b[0;34m,\u001b[0m \u001b[0;34m'html.parser'\u001b[0m\u001b[0;34m)\u001b[0m\u001b[0;34m\u001b[0m\u001b[0;34m\u001b[0m\u001b[0m\n\u001b[1;32m      4\u001b[0m \u001b[0mstudent_info\u001b[0m \u001b[0;34m=\u001b[0m \u001b[0mcontents\u001b[0m\u001b[0;34m.\u001b[0m\u001b[0mfind_all\u001b[0m\u001b[0;34m(\u001b[0m\u001b[0;34m'tbody'\u001b[0m\u001b[0;34m)\u001b[0m\u001b[0;34m\u001b[0m\u001b[0;34m\u001b[0m\u001b[0m\n\u001b[0;32m----> 5\u001b[0;31m \u001b[0mstudentlist\u001b[0m \u001b[0;34m=\u001b[0m \u001b[0mstudent_info\u001b[0m\u001b[0;34m.\u001b[0m\u001b[0mfind_all\u001b[0m\u001b[0;34m(\u001b[0m\u001b[0;34m'tr'\u001b[0m\u001b[0;34m)\u001b[0m\u001b[0;34m\u001b[0m\u001b[0;34m\u001b[0m\u001b[0m\n\u001b[0m\u001b[1;32m      6\u001b[0m \u001b[0;32mfor\u001b[0m \u001b[0mi\u001b[0m\u001b[0;34m,\u001b[0m \u001b[0minfo\u001b[0m \u001b[0;32min\u001b[0m \u001b[0menumerate\u001b[0m\u001b[0;34m(\u001b[0m\u001b[0mstudent_info\u001b[0m\u001b[0;34m)\u001b[0m\u001b[0;34m:\u001b[0m\u001b[0;34m\u001b[0m\u001b[0;34m\u001b[0m\u001b[0m\n\u001b[1;32m      7\u001b[0m     \u001b[0muser\u001b[0m \u001b[0;34m=\u001b[0m \u001b[0minfo\u001b[0m\u001b[0;34m.\u001b[0m\u001b[0mfind_all\u001b[0m\u001b[0;34m(\u001b[0m\u001b[0;34m'td'\u001b[0m\u001b[0;34m)\u001b[0m\u001b[0;34m\u001b[0m\u001b[0;34m\u001b[0m\u001b[0m\n",
      "\u001b[0;32m~/miniforge3/lib/python3.9/site-packages/bs4/element.py\u001b[0m in \u001b[0;36m__getattr__\u001b[0;34m(self, key)\u001b[0m\n\u001b[1;32m   2171\u001b[0m     \u001b[0;32mdef\u001b[0m \u001b[0m__getattr__\u001b[0m\u001b[0;34m(\u001b[0m\u001b[0mself\u001b[0m\u001b[0;34m,\u001b[0m \u001b[0mkey\u001b[0m\u001b[0;34m)\u001b[0m\u001b[0;34m:\u001b[0m\u001b[0;34m\u001b[0m\u001b[0;34m\u001b[0m\u001b[0m\n\u001b[1;32m   2172\u001b[0m         \u001b[0;34m\"\"\"Raise a helpful exception to explain a common code fix.\"\"\"\u001b[0m\u001b[0;34m\u001b[0m\u001b[0;34m\u001b[0m\u001b[0m\n\u001b[0;32m-> 2173\u001b[0;31m         raise AttributeError(\n\u001b[0m\u001b[1;32m   2174\u001b[0m             \u001b[0;34m\"ResultSet object has no attribute '%s'. You're probably treating a list of elements like a single element. Did you call find_all() when you meant to call find()?\"\u001b[0m \u001b[0;34m%\u001b[0m \u001b[0mkey\u001b[0m\u001b[0;34m\u001b[0m\u001b[0;34m\u001b[0m\u001b[0m\n\u001b[1;32m   2175\u001b[0m         )\n",
      "\u001b[0;31mAttributeError\u001b[0m: ResultSet object has no attribute 'find_all'. You're probably treating a list of elements like a single element. Did you call find_all() when you meant to call find()?"
     ]
    }
   ],
   "source": [
    "full_page = driver.page_source\n",
    "time.sleep(0.5)\n",
    "contents = BeautifulSoup(full_page, 'html.parser')\n",
    "student_info = contents.find_all('tbody')\n",
    "\n",
    "for i, info in enumerate(student_info):\n",
    "    user = info.find_all('td')\n",
    "    temp_name = user.find('div', class_='subfield subfield_firstname').text.strip()\n",
    "    temp_id = user.find('div', class_='subfield subfield_idnumber').text.strip()\n",
    "    df.loc[i] = [temp_name, temp_id, class_room_num]\n",
    "    \n",
    "    \n"
   ]
  },
  {
   "cell_type": "code",
   "execution_count": null,
   "id": "latter-glucose",
   "metadata": {},
   "outputs": [],
   "source": []
  }
 ],
 "metadata": {
  "kernelspec": {
   "display_name": "Python 3",
   "language": "python",
   "name": "python3"
  },
  "language_info": {
   "codemirror_mode": {
    "name": "ipython",
    "version": 3
   },
   "file_extension": ".py",
   "mimetype": "text/x-python",
   "name": "python",
   "nbconvert_exporter": "python",
   "pygments_lexer": "ipython3",
   "version": "3.9.1"
  }
 },
 "nbformat": 4,
 "nbformat_minor": 5
}
